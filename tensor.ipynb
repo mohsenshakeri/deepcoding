{
 "cells": [
  {
   "cell_type": "code",
   "execution_count": 1,
   "id": "eb5b7e3d",
   "metadata": {},
   "outputs": [],
   "source": [
    "import torch"
   ]
  },
  {
   "cell_type": "markdown",
   "id": "86e67ac2",
   "metadata": {},
   "source": [
    "# create tensor"
   ]
  },
  {
   "cell_type": "code",
   "execution_count": 2,
   "id": "e7bb94e4",
   "metadata": {},
   "outputs": [],
   "source": [
    "my_tensor=torch.tensor([[1,2,3],[3,4,5]])"
   ]
  },
  {
   "cell_type": "code",
   "execution_count": 3,
   "id": "2baec5d2",
   "metadata": {},
   "outputs": [
    {
     "data": {
      "text/plain": [
       "tensor([[1, 2, 3],\n",
       "        [3, 4, 5]])"
      ]
     },
     "execution_count": 3,
     "metadata": {},
     "output_type": "execute_result"
    }
   ],
   "source": [
    "my_tensor"
   ]
  },
  {
   "cell_type": "code",
   "execution_count": 4,
   "id": "7430e3a5",
   "metadata": {},
   "outputs": [
    {
     "data": {
      "text/plain": [
       "tensor([[1., 2., 3.],\n",
       "        [4., 5., 6.]])"
      ]
     },
     "execution_count": 4,
     "metadata": {},
     "output_type": "execute_result"
    }
   ],
   "source": [
    "my_tensor=torch.tensor([[1,2,3],[4,5,6]],dtype=torch.float32)\n",
    "my_tensor"
   ]
  },
  {
   "cell_type": "code",
   "execution_count": 5,
   "id": "b6ebbc93",
   "metadata": {},
   "outputs": [
    {
     "data": {
      "text/plain": [
       "tensor([[1., 2., 3.],\n",
       "        [4., 5., 6.]], device='cuda:0')"
      ]
     },
     "execution_count": 5,
     "metadata": {},
     "output_type": "execute_result"
    }
   ],
   "source": [
    "my_tensor=torch.tensor([[1,2,3],[4,5,6]],dtype=torch.float32,device=\"cuda\")\n",
    "my_tensor"
   ]
  },
  {
   "cell_type": "code",
   "execution_count": 6,
   "id": "88f87344",
   "metadata": {},
   "outputs": [
    {
     "data": {
      "text/plain": [
       "tensor([[1., 2., 3.],\n",
       "        [4., 5., 6.]])"
      ]
     },
     "execution_count": 6,
     "metadata": {},
     "output_type": "execute_result"
    }
   ],
   "source": [
    "my_tensor=torch.tensor([[1,2,3],[4,5,6]],dtype=torch.float32,device=\"cpu\")\n",
    "my_tensor"
   ]
  },
  {
   "cell_type": "code",
   "execution_count": 7,
   "id": "e6812e81",
   "metadata": {},
   "outputs": [
    {
     "name": "stdout",
     "output_type": "stream",
     "text": [
      "type== torch.float32\n"
     ]
    }
   ],
   "source": [
    "print(\"type==\",my_tensor.dtype)"
   ]
  },
  {
   "cell_type": "code",
   "execution_count": 8,
   "id": "36357766",
   "metadata": {},
   "outputs": [
    {
     "name": "stdout",
     "output_type": "stream",
     "text": [
      "shape=== torch.Size([2, 3])\n"
     ]
    }
   ],
   "source": [
    "print(\"shape===\",my_tensor.shape)"
   ]
  },
  {
   "cell_type": "code",
   "execution_count": 9,
   "id": "dc3e9699",
   "metadata": {},
   "outputs": [
    {
     "name": "stdout",
     "output_type": "stream",
     "text": [
      "device== cpu\n"
     ]
    }
   ],
   "source": [
    "print(\"device==\",my_tensor.device)"
   ]
  },
  {
   "cell_type": "code",
   "execution_count": 12,
   "id": "dd331455",
   "metadata": {},
   "outputs": [
    {
     "data": {
      "text/plain": [
       "tensor([[0., 0., 0., 0., 0., 0.],\n",
       "        [0., 0., 0., 0., 0., 0.],\n",
       "        [0., 0., 0., 0., 0., 0.],\n",
       "        [0., 0., 0., 0., 0., 0.],\n",
       "        [0., 0., 0., 0., 0., 0.]])"
      ]
     },
     "execution_count": 12,
     "metadata": {},
     "output_type": "execute_result"
    }
   ],
   "source": [
    "torch.zeros(size=(5,6))"
   ]
  },
  {
   "cell_type": "code",
   "execution_count": 13,
   "id": "b8e0487b",
   "metadata": {},
   "outputs": [
    {
     "data": {
      "text/plain": [
       "tensor([[1., 1., 1., 1., 1.],\n",
       "        [1., 1., 1., 1., 1.],\n",
       "        [1., 1., 1., 1., 1.]])"
      ]
     },
     "execution_count": 13,
     "metadata": {},
     "output_type": "execute_result"
    }
   ],
   "source": [
    "torch.ones(size=(3,5))"
   ]
  },
  {
   "cell_type": "code",
   "execution_count": 14,
   "id": "574a814d",
   "metadata": {},
   "outputs": [
    {
     "data": {
      "text/plain": [
       "tensor([[3., 3., 3., 3., 3.],\n",
       "        [3., 3., 3., 3., 3.],\n",
       "        [3., 3., 3., 3., 3.]])"
      ]
     },
     "execution_count": 14,
     "metadata": {},
     "output_type": "execute_result"
    }
   ],
   "source": [
    "torch.ones(size=(3,5))+2"
   ]
  },
  {
   "cell_type": "code",
   "execution_count": 15,
   "id": "448c08c1",
   "metadata": {},
   "outputs": [
    {
     "data": {
      "text/plain": [
       "tensor([[1., 0., 0., 0., 0., 0., 0., 0., 0., 0.],\n",
       "        [0., 1., 0., 0., 0., 0., 0., 0., 0., 0.],\n",
       "        [0., 0., 1., 0., 0., 0., 0., 0., 0., 0.],\n",
       "        [0., 0., 0., 1., 0., 0., 0., 0., 0., 0.],\n",
       "        [0., 0., 0., 0., 1., 0., 0., 0., 0., 0.],\n",
       "        [0., 0., 0., 0., 0., 1., 0., 0., 0., 0.],\n",
       "        [0., 0., 0., 0., 0., 0., 1., 0., 0., 0.],\n",
       "        [0., 0., 0., 0., 0., 0., 0., 1., 0., 0.],\n",
       "        [0., 0., 0., 0., 0., 0., 0., 0., 1., 0.],\n",
       "        [0., 0., 0., 0., 0., 0., 0., 0., 0., 1.]])"
      ]
     },
     "execution_count": 15,
     "metadata": {},
     "output_type": "execute_result"
    }
   ],
   "source": [
    "torch.eye(10)"
   ]
  },
  {
   "cell_type": "code",
   "execution_count": 16,
   "id": "56a350f3",
   "metadata": {},
   "outputs": [
    {
     "data": {
      "text/plain": [
       "tensor([[0.3983, 0.3836, 0.5094],\n",
       "        [0.9473, 0.1585, 0.3951],\n",
       "        [0.4416, 0.3210, 0.3264],\n",
       "        [0.8107, 0.3970, 0.6504],\n",
       "        [0.8380, 0.1082, 0.7675]])"
      ]
     },
     "execution_count": 16,
     "metadata": {},
     "output_type": "execute_result"
    }
   ],
   "source": [
    "torch.rand((5,3))"
   ]
  },
  {
   "cell_type": "code",
   "execution_count": 17,
   "id": "e147c926",
   "metadata": {},
   "outputs": [
    {
     "data": {
      "text/plain": [
       "tensor([40, 44, 48, 52, 56, 60, 64, 68, 72, 76, 80, 84, 88, 92, 96])"
      ]
     },
     "execution_count": 17,
     "metadata": {},
     "output_type": "execute_result"
    }
   ],
   "source": [
    "torch.arange(40,100,4)"
   ]
  },
  {
   "cell_type": "code",
   "execution_count": 18,
   "id": "0e3b4f1c",
   "metadata": {},
   "outputs": [],
   "source": [
    "import numpy as np"
   ]
  },
  {
   "cell_type": "code",
   "execution_count": 19,
   "id": "514cb832",
   "metadata": {},
   "outputs": [
    {
     "data": {
      "text/plain": [
       "array([2, 3, 5, 5, 5, 2, 4, 5, 2, 3])"
      ]
     },
     "execution_count": 19,
     "metadata": {},
     "output_type": "execute_result"
    }
   ],
   "source": [
    "np.random.randint(2,6,10)"
   ]
  },
  {
   "cell_type": "code",
   "execution_count": 20,
   "id": "dbbe42d4",
   "metadata": {},
   "outputs": [
    {
     "data": {
      "text/plain": [
       "tensor([[5, 4, 2, 5, 2],\n",
       "        [5, 3, 5, 3, 5]])"
      ]
     },
     "execution_count": 20,
     "metadata": {},
     "output_type": "execute_result"
    }
   ],
   "source": [
    "torch.randint(2,6,(2,5))"
   ]
  },
  {
   "cell_type": "code",
   "execution_count": 21,
   "id": "0e55d9a1",
   "metadata": {},
   "outputs": [
    {
     "data": {
      "text/plain": [
       "array([2, 2, 5, 3, 5, 3, 4, 4, 3, 3])"
      ]
     },
     "execution_count": 21,
     "metadata": {},
     "output_type": "execute_result"
    }
   ],
   "source": [
    "npInt=np.random.randint(2,6,10)\n",
    "npInt"
   ]
  },
  {
   "cell_type": "code",
   "execution_count": 22,
   "id": "fc39514a",
   "metadata": {},
   "outputs": [
    {
     "data": {
      "text/plain": [
       "tensor([2, 2, 5, 3, 5, 3, 4, 4, 3, 3], dtype=torch.int32)"
      ]
     },
     "execution_count": 22,
     "metadata": {},
     "output_type": "execute_result"
    }
   ],
   "source": [
    "torch.tensor(npInt)"
   ]
  },
  {
   "cell_type": "code",
   "execution_count": 23,
   "id": "88b5cc7b",
   "metadata": {},
   "outputs": [
    {
     "data": {
      "text/plain": [
       "tensor([ 2.0000,  2.0808,  2.1616,  2.2424,  2.3232,  2.4040,  2.4848,  2.5657,\n",
       "         2.6465,  2.7273,  2.8081,  2.8889,  2.9697,  3.0505,  3.1313,  3.2121,\n",
       "         3.2929,  3.3737,  3.4545,  3.5354,  3.6162,  3.6970,  3.7778,  3.8586,\n",
       "         3.9394,  4.0202,  4.1010,  4.1818,  4.2626,  4.3434,  4.4242,  4.5051,\n",
       "         4.5859,  4.6667,  4.7475,  4.8283,  4.9091,  4.9899,  5.0707,  5.1515,\n",
       "         5.2323,  5.3131,  5.3939,  5.4747,  5.5556,  5.6364,  5.7172,  5.7980,\n",
       "         5.8788,  5.9596,  6.0404,  6.1212,  6.2020,  6.2828,  6.3636,  6.4444,\n",
       "         6.5253,  6.6061,  6.6869,  6.7677,  6.8485,  6.9293,  7.0101,  7.0909,\n",
       "         7.1717,  7.2525,  7.3333,  7.4141,  7.4949,  7.5758,  7.6566,  7.7374,\n",
       "         7.8182,  7.8990,  7.9798,  8.0606,  8.1414,  8.2222,  8.3030,  8.3838,\n",
       "         8.4646,  8.5455,  8.6263,  8.7071,  8.7879,  8.8687,  8.9495,  9.0303,\n",
       "         9.1111,  9.1919,  9.2727,  9.3535,  9.4343,  9.5152,  9.5960,  9.6768,\n",
       "         9.7576,  9.8384,  9.9192, 10.0000])"
      ]
     },
     "execution_count": 23,
     "metadata": {},
     "output_type": "execute_result"
    }
   ],
   "source": [
    "a=torch.linspace(2,10,100)\n",
    "a"
   ]
  },
  {
   "cell_type": "code",
   "execution_count": 24,
   "id": "ce864728",
   "metadata": {},
   "outputs": [
    {
     "data": {
      "text/plain": [
       "tensor([1.0000e+02, 1.2045e+02, 1.4508e+02, 1.7475e+02, 2.1049e+02, 2.5354e+02,\n",
       "        3.0539e+02, 3.6784e+02, 4.4306e+02, 5.3367e+02, 6.4281e+02, 7.7426e+02,\n",
       "        9.3260e+02, 1.1233e+03, 1.3530e+03, 1.6298e+03, 1.9630e+03, 2.3645e+03,\n",
       "        2.8480e+03, 3.4305e+03, 4.1320e+03, 4.9770e+03, 5.9948e+03, 7.2208e+03,\n",
       "        8.6975e+03, 1.0476e+04, 1.2619e+04, 1.5199e+04, 1.8307e+04, 2.2051e+04,\n",
       "        2.6561e+04, 3.1993e+04, 3.8535e+04, 4.6416e+04, 5.5908e+04, 6.7342e+04,\n",
       "        8.1113e+04, 9.7701e+04, 1.1768e+05, 1.4175e+05, 1.7074e+05, 2.0565e+05,\n",
       "        2.4771e+05, 2.9836e+05, 3.5938e+05, 4.3288e+05, 5.2140e+05, 6.2803e+05,\n",
       "        7.5646e+05, 9.1116e+05, 1.0975e+06, 1.3219e+06, 1.5923e+06, 1.9179e+06,\n",
       "        2.3101e+06, 2.7826e+06, 3.3516e+06, 4.0370e+06, 4.8626e+06, 5.8570e+06,\n",
       "        7.0548e+06, 8.4975e+06, 1.0235e+07, 1.2328e+07, 1.4850e+07, 1.7886e+07,\n",
       "        2.1544e+07, 2.5950e+07, 3.1257e+07, 3.7649e+07, 4.5349e+07, 5.4623e+07,\n",
       "        6.5793e+07, 7.9248e+07, 9.5455e+07, 1.1498e+08, 1.3849e+08, 1.6681e+08,\n",
       "        2.0092e+08, 2.4201e+08, 2.9151e+08, 3.5112e+08, 4.2292e+08, 5.0941e+08,\n",
       "        6.1359e+08, 7.3907e+08, 8.9022e+08, 1.0723e+09, 1.2915e+09, 1.5557e+09,\n",
       "        1.8738e+09, 2.2570e+09, 2.7186e+09, 3.2745e+09, 3.9442e+09, 4.7508e+09,\n",
       "        5.7224e+09, 6.8926e+09, 8.3022e+09, 1.0000e+10])"
      ]
     },
     "execution_count": 24,
     "metadata": {},
     "output_type": "execute_result"
    }
   ],
   "source": [
    "torch.logspace(2,10,100)"
   ]
  },
  {
   "cell_type": "code",
   "execution_count": 25,
   "id": "ad842c02",
   "metadata": {},
   "outputs": [
    {
     "data": {
      "text/plain": [
       "tensor([0, 1, 2, 3])"
      ]
     },
     "execution_count": 25,
     "metadata": {},
     "output_type": "execute_result"
    }
   ],
   "source": [
    "mm=torch.arange(4)\n",
    "mm"
   ]
  },
  {
   "cell_type": "code",
   "execution_count": 26,
   "id": "d7a7d53f",
   "metadata": {},
   "outputs": [
    {
     "data": {
      "text/plain": [
       "tensor([False,  True,  True,  True])"
      ]
     },
     "execution_count": 26,
     "metadata": {},
     "output_type": "execute_result"
    }
   ],
   "source": [
    "mm.bool()"
   ]
  },
  {
   "cell_type": "code",
   "execution_count": 27,
   "id": "9d17e161",
   "metadata": {},
   "outputs": [
    {
     "data": {
      "text/plain": [
       "tensor([0, 1, 2, 3], dtype=torch.int16)"
      ]
     },
     "execution_count": 27,
     "metadata": {},
     "output_type": "execute_result"
    }
   ],
   "source": [
    "mm.short()"
   ]
  },
  {
   "cell_type": "code",
   "execution_count": 28,
   "id": "538a71b9",
   "metadata": {},
   "outputs": [
    {
     "data": {
      "text/plain": [
       "torch.int64"
      ]
     },
     "execution_count": 28,
     "metadata": {},
     "output_type": "execute_result"
    }
   ],
   "source": [
    "mm.dtype"
   ]
  },
  {
   "cell_type": "code",
   "execution_count": 29,
   "id": "63020280",
   "metadata": {},
   "outputs": [
    {
     "data": {
      "text/plain": [
       "tensor([0, 1, 2, 3])"
      ]
     },
     "execution_count": 29,
     "metadata": {},
     "output_type": "execute_result"
    }
   ],
   "source": [
    "mm.long()"
   ]
  },
  {
   "cell_type": "code",
   "execution_count": 30,
   "id": "12f0d9f7",
   "metadata": {},
   "outputs": [
    {
     "data": {
      "text/plain": [
       "tensor([0., 1., 2., 3.])"
      ]
     },
     "execution_count": 30,
     "metadata": {},
     "output_type": "execute_result"
    }
   ],
   "source": [
    "mm.float()"
   ]
  },
  {
   "cell_type": "code",
   "execution_count": 31,
   "id": "796ec5c3",
   "metadata": {},
   "outputs": [
    {
     "data": {
      "text/plain": [
       "tensor([0., 1., 2., 3.], dtype=torch.float64)"
      ]
     },
     "execution_count": 31,
     "metadata": {},
     "output_type": "execute_result"
    }
   ],
   "source": [
    "mm.double()"
   ]
  },
  {
   "cell_type": "code",
   "execution_count": 32,
   "id": "e192360c",
   "metadata": {},
   "outputs": [
    {
     "data": {
      "text/plain": [
       "tensor([0, 1, 2, 3])"
      ]
     },
     "execution_count": 32,
     "metadata": {},
     "output_type": "execute_result"
    }
   ],
   "source": [
    "mm"
   ]
  },
  {
   "cell_type": "code",
   "execution_count": 33,
   "id": "03e9d9ba",
   "metadata": {},
   "outputs": [
    {
     "data": {
      "text/plain": [
       "array([0, 1, 2, 3], dtype=int64)"
      ]
     },
     "execution_count": 33,
     "metadata": {},
     "output_type": "execute_result"
    }
   ],
   "source": [
    "mm.numpy()"
   ]
  },
  {
   "cell_type": "code",
   "execution_count": 34,
   "id": "57df85b2",
   "metadata": {},
   "outputs": [],
   "source": [
    "x=torch.tensor([1,2,3])\n",
    "y=torch.tensor([9,8,7])"
   ]
  },
  {
   "cell_type": "code",
   "execution_count": 35,
   "id": "31fd6e01",
   "metadata": {},
   "outputs": [],
   "source": [
    "z1=torch.empty(3)"
   ]
  },
  {
   "cell_type": "code",
   "execution_count": 36,
   "id": "2312bce5",
   "metadata": {},
   "outputs": [
    {
     "data": {
      "text/plain": [
       "tensor([10., 10., 10.])"
      ]
     },
     "execution_count": 36,
     "metadata": {},
     "output_type": "execute_result"
    }
   ],
   "source": [
    "torch.add(y,x,out=z1)"
   ]
  },
  {
   "cell_type": "code",
   "execution_count": 37,
   "id": "846ed54b",
   "metadata": {},
   "outputs": [
    {
     "data": {
      "text/plain": [
       "tensor([10., 10., 10.])"
      ]
     },
     "execution_count": 37,
     "metadata": {},
     "output_type": "execute_result"
    }
   ],
   "source": [
    "z1"
   ]
  },
  {
   "cell_type": "code",
   "execution_count": 38,
   "id": "56c9d627",
   "metadata": {},
   "outputs": [
    {
     "data": {
      "text/plain": [
       "tensor([10, 10, 10])"
      ]
     },
     "execution_count": 38,
     "metadata": {},
     "output_type": "execute_result"
    }
   ],
   "source": [
    "z2=torch.add(x,y)\n",
    "z2"
   ]
  },
  {
   "cell_type": "code",
   "execution_count": 39,
   "id": "61673bdb",
   "metadata": {},
   "outputs": [
    {
     "data": {
      "text/plain": [
       "tensor([10, 10, 10])"
      ]
     },
     "execution_count": 39,
     "metadata": {},
     "output_type": "execute_result"
    }
   ],
   "source": [
    "z3=x+y\n",
    "z3"
   ]
  },
  {
   "cell_type": "code",
   "execution_count": 40,
   "id": "b719402b",
   "metadata": {},
   "outputs": [
    {
     "data": {
      "text/plain": [
       "tensor([8, 6, 4])"
      ]
     },
     "execution_count": 40,
     "metadata": {},
     "output_type": "execute_result"
    }
   ],
   "source": [
    "z=y-x\n",
    "z"
   ]
  },
  {
   "cell_type": "code",
   "execution_count": 41,
   "id": "c50527a7",
   "metadata": {},
   "outputs": [
    {
     "data": {
      "text/plain": [
       "tensor([0.1111, 0.2500, 0.4286])"
      ]
     },
     "execution_count": 41,
     "metadata": {},
     "output_type": "execute_result"
    }
   ],
   "source": [
    "z=x/y\n",
    "z"
   ]
  },
  {
   "cell_type": "code",
   "execution_count": 42,
   "id": "31e206d9",
   "metadata": {},
   "outputs": [
    {
     "data": {
      "text/plain": [
       "tensor([0.1111, 0.2500, 0.4286])"
      ]
     },
     "execution_count": 42,
     "metadata": {},
     "output_type": "execute_result"
    }
   ],
   "source": [
    "z=torch.true_divide(x,y)\n",
    "z"
   ]
  },
  {
   "cell_type": "code",
   "execution_count": 43,
   "id": "2a9f7aca",
   "metadata": {},
   "outputs": [
    {
     "data": {
      "text/plain": [
       "tensor([0., 0., 0.])"
      ]
     },
     "execution_count": 43,
     "metadata": {},
     "output_type": "execute_result"
    }
   ],
   "source": [
    "t=torch.zeros(3)\n",
    "t"
   ]
  },
  {
   "cell_type": "code",
   "execution_count": 44,
   "id": "fe3e6a1c",
   "metadata": {},
   "outputs": [
    {
     "data": {
      "text/plain": [
       "tensor([1., 2., 3.])"
      ]
     },
     "execution_count": 44,
     "metadata": {},
     "output_type": "execute_result"
    }
   ],
   "source": [
    "t.add_(x)"
   ]
  },
  {
   "cell_type": "code",
   "execution_count": 45,
   "id": "db623d7e",
   "metadata": {},
   "outputs": [
    {
     "data": {
      "text/plain": [
       "tensor([1., 2., 3.])"
      ]
     },
     "execution_count": 45,
     "metadata": {},
     "output_type": "execute_result"
    }
   ],
   "source": [
    "t"
   ]
  },
  {
   "cell_type": "code",
   "execution_count": 46,
   "id": "a12d754f",
   "metadata": {},
   "outputs": [
    {
     "data": {
      "text/plain": [
       "tensor([1, 4, 9])"
      ]
     },
     "execution_count": 46,
     "metadata": {},
     "output_type": "execute_result"
    }
   ],
   "source": [
    "z=x.pow(2)\n",
    "z"
   ]
  },
  {
   "cell_type": "code",
   "execution_count": 47,
   "id": "c351051e",
   "metadata": {},
   "outputs": [
    {
     "data": {
      "text/plain": [
       "tensor([1, 4, 9])"
      ]
     },
     "execution_count": 47,
     "metadata": {},
     "output_type": "execute_result"
    }
   ],
   "source": [
    "z=x**2\n",
    "z"
   ]
  },
  {
   "cell_type": "code",
   "execution_count": 49,
   "id": "64954e6e",
   "metadata": {},
   "outputs": [
    {
     "data": {
      "text/plain": [
       "tensor([ True,  True, False])"
      ]
     },
     "execution_count": 49,
     "metadata": {},
     "output_type": "execute_result"
    }
   ],
   "source": [
    "z<5"
   ]
  },
  {
   "cell_type": "code",
   "execution_count": 50,
   "id": "bf40f539",
   "metadata": {},
   "outputs": [],
   "source": [
    "x1=torch.rand((2,5))\n",
    "x2=torch.rand((5,3))"
   ]
  },
  {
   "cell_type": "code",
   "execution_count": 51,
   "id": "84b1bd93",
   "metadata": {},
   "outputs": [
    {
     "name": "stdout",
     "output_type": "stream",
     "text": [
      "tensor([[0.3276, 0.1843, 0.2237, 0.8968, 0.9821],\n",
      "        [0.8351, 0.9159, 0.5908, 0.7474, 0.6695]])\n"
     ]
    }
   ],
   "source": [
    "print(x1)"
   ]
  },
  {
   "cell_type": "code",
   "execution_count": 52,
   "id": "8cbbe5ff",
   "metadata": {},
   "outputs": [
    {
     "name": "stdout",
     "output_type": "stream",
     "text": [
      "tensor([[0.6061, 0.3185, 0.2361],\n",
      "        [0.8303, 0.0255, 0.4651],\n",
      "        [0.6625, 0.7414, 0.6571],\n",
      "        [0.4397, 0.6899, 0.2296],\n",
      "        [0.0731, 0.1441, 0.0217]])\n"
     ]
    }
   ],
   "source": [
    "print(x2)"
   ]
  },
  {
   "cell_type": "code",
   "execution_count": 53,
   "id": "7b40cfd2",
   "metadata": {},
   "outputs": [
    {
     "data": {
      "text/plain": [
       "tensor([[0.9659, 1.0351, 0.5372],\n",
       "        [2.0357, 1.3395, 1.1975]])"
      ]
     },
     "execution_count": 53,
     "metadata": {},
     "output_type": "execute_result"
    }
   ],
   "source": [
    "x1.mm(x2)"
   ]
  },
  {
   "cell_type": "code",
   "execution_count": 54,
   "id": "a3061ef3",
   "metadata": {},
   "outputs": [
    {
     "data": {
      "text/plain": [
       "tensor([[0.9659, 1.0351, 0.5372],\n",
       "        [2.0357, 1.3395, 1.1975]])"
      ]
     },
     "execution_count": 54,
     "metadata": {},
     "output_type": "execute_result"
    }
   ],
   "source": [
    "torch.mm(x1,x2)"
   ]
  },
  {
   "cell_type": "code",
   "execution_count": 55,
   "id": "df5a7beb",
   "metadata": {},
   "outputs": [
    {
     "data": {
      "text/plain": [
       "tensor([ 9, 16, 21])"
      ]
     },
     "execution_count": 55,
     "metadata": {},
     "output_type": "execute_result"
    }
   ],
   "source": [
    "x=torch.tensor([1,2,3])\n",
    "y=torch.tensor([9,8,7])\n",
    "z=x*y\n",
    "z"
   ]
  },
  {
   "cell_type": "code",
   "execution_count": 56,
   "id": "2af259e7",
   "metadata": {},
   "outputs": [
    {
     "data": {
      "text/plain": [
       "tensor(46)"
      ]
     },
     "execution_count": 56,
     "metadata": {},
     "output_type": "execute_result"
    }
   ],
   "source": [
    "torch.dot(x,y)"
   ]
  },
  {
   "cell_type": "code",
   "execution_count": 57,
   "id": "568f2368",
   "metadata": {},
   "outputs": [],
   "source": [
    "x1=torch.rand((5,5))"
   ]
  },
  {
   "cell_type": "code",
   "execution_count": 58,
   "id": "f1e2482d",
   "metadata": {},
   "outputs": [
    {
     "data": {
      "text/plain": [
       "tensor([[0.0119, 0.6599, 0.7907, 0.4057, 0.4127],\n",
       "        [0.2066, 0.4440, 0.4244, 0.2492, 0.6418],\n",
       "        [0.9617, 0.9588, 0.4062, 0.4313, 0.8637],\n",
       "        [0.8183, 0.8225, 0.9808, 0.8516, 0.8581],\n",
       "        [0.4799, 0.9161, 0.5703, 0.7969, 0.8533]])"
      ]
     },
     "execution_count": 58,
     "metadata": {},
     "output_type": "execute_result"
    }
   ],
   "source": [
    "x1"
   ]
  },
  {
   "cell_type": "code",
   "execution_count": 61,
   "id": "5a68c848",
   "metadata": {},
   "outputs": [
    {
     "data": {
      "text/plain": [
       "tensor([2.4784, 3.8013, 3.1725, 2.7348, 3.6296])"
      ]
     },
     "execution_count": 61,
     "metadata": {},
     "output_type": "execute_result"
    }
   ],
   "source": [
    "torch.sum(x1,dim=0)"
   ]
  },
  {
   "cell_type": "code",
   "execution_count": 63,
   "id": "f39dbf38",
   "metadata": {},
   "outputs": [],
   "source": [
    "values,indict=torch.max(x1,dim=1)"
   ]
  },
  {
   "cell_type": "code",
   "execution_count": 64,
   "id": "e937316c",
   "metadata": {},
   "outputs": [
    {
     "data": {
      "text/plain": [
       "tensor([0.7907, 0.6418, 0.9617, 0.9808, 0.9161])"
      ]
     },
     "execution_count": 64,
     "metadata": {},
     "output_type": "execute_result"
    }
   ],
   "source": [
    "values"
   ]
  },
  {
   "cell_type": "code",
   "execution_count": 65,
   "id": "14e0e9ea",
   "metadata": {},
   "outputs": [
    {
     "data": {
      "text/plain": [
       "tensor([2, 4, 0, 2, 1])"
      ]
     },
     "execution_count": 65,
     "metadata": {},
     "output_type": "execute_result"
    }
   ],
   "source": [
    "indict"
   ]
  },
  {
   "cell_type": "code",
   "execution_count": 66,
   "id": "6d57a5b7",
   "metadata": {},
   "outputs": [
    {
     "data": {
      "text/plain": [
       "tensor([2, 4, 0, 2, 1])"
      ]
     },
     "execution_count": 66,
     "metadata": {},
     "output_type": "execute_result"
    }
   ],
   "source": [
    "torch.argmax(x1,dim=1)"
   ]
  },
  {
   "cell_type": "code",
   "execution_count": 67,
   "id": "ec0422f2",
   "metadata": {},
   "outputs": [
    {
     "data": {
      "text/plain": [
       "tensor([0.4957, 0.7603, 0.6345, 0.5470, 0.7259])"
      ]
     },
     "execution_count": 67,
     "metadata": {},
     "output_type": "execute_result"
    }
   ],
   "source": [
    "torch.mean(x1,dim=0)"
   ]
  },
  {
   "cell_type": "code",
   "execution_count": 68,
   "id": "a1d0d4e3",
   "metadata": {},
   "outputs": [
    {
     "data": {
      "text/plain": [
       "tensor([1, 2, 3])"
      ]
     },
     "execution_count": 68,
     "metadata": {},
     "output_type": "execute_result"
    }
   ],
   "source": [
    "x"
   ]
  },
  {
   "cell_type": "code",
   "execution_count": 69,
   "id": "f7943fae",
   "metadata": {},
   "outputs": [
    {
     "data": {
      "text/plain": [
       "tensor([9, 8, 7])"
      ]
     },
     "execution_count": 69,
     "metadata": {},
     "output_type": "execute_result"
    }
   ],
   "source": [
    "y"
   ]
  },
  {
   "cell_type": "code",
   "execution_count": 70,
   "id": "6f39fcc1",
   "metadata": {},
   "outputs": [
    {
     "data": {
      "text/plain": [
       "tensor([False, False, False])"
      ]
     },
     "execution_count": 70,
     "metadata": {},
     "output_type": "execute_result"
    }
   ],
   "source": [
    "torch.eq(x,y)"
   ]
  },
  {
   "cell_type": "code",
   "execution_count": 72,
   "id": "bd06038d",
   "metadata": {},
   "outputs": [
    {
     "data": {
      "text/plain": [
       "torch.return_types.sort(\n",
       "values=tensor([3, 2, 1]),\n",
       "indices=tensor([2, 1, 0]))"
      ]
     },
     "execution_count": 72,
     "metadata": {},
     "output_type": "execute_result"
    }
   ],
   "source": [
    "torch.sort(x,descending=True)"
   ]
  },
  {
   "cell_type": "code",
   "execution_count": 73,
   "id": "95ba2bd6",
   "metadata": {},
   "outputs": [
    {
     "data": {
      "text/plain": [
       "tensor([1, 2, 3])"
      ]
     },
     "execution_count": 73,
     "metadata": {},
     "output_type": "execute_result"
    }
   ],
   "source": [
    "x"
   ]
  },
  {
   "cell_type": "code",
   "execution_count": 76,
   "id": "48ea7486",
   "metadata": {},
   "outputs": [
    {
     "data": {
      "text/plain": [
       "tensor([10, 10, 10])"
      ]
     },
     "execution_count": 76,
     "metadata": {},
     "output_type": "execute_result"
    }
   ],
   "source": [
    "torch.clamp(x,min=10)"
   ]
  },
  {
   "cell_type": "code",
   "execution_count": 80,
   "id": "055bd5e8",
   "metadata": {},
   "outputs": [
    {
     "data": {
      "text/plain": [
       "tensor([True, True, True, True, True, True])"
      ]
     },
     "execution_count": 80,
     "metadata": {},
     "output_type": "execute_result"
    }
   ],
   "source": [
    "x=torch.tensor([1,1,1,1,1,1],dtype=bool)\n",
    "x"
   ]
  },
  {
   "cell_type": "code",
   "execution_count": 81,
   "id": "199073de",
   "metadata": {},
   "outputs": [
    {
     "data": {
      "text/plain": [
       "tensor(True)"
      ]
     },
     "execution_count": 81,
     "metadata": {},
     "output_type": "execute_result"
    }
   ],
   "source": [
    "torch.any(x)"
   ]
  },
  {
   "cell_type": "code",
   "execution_count": 82,
   "id": "5a6708ad",
   "metadata": {},
   "outputs": [
    {
     "data": {
      "text/plain": [
       "tensor(True)"
      ]
     },
     "execution_count": 82,
     "metadata": {},
     "output_type": "execute_result"
    }
   ],
   "source": [
    "torch.all(x)"
   ]
  },
  {
   "cell_type": "code",
   "execution_count": 83,
   "id": "44f5cda6",
   "metadata": {},
   "outputs": [
    {
     "data": {
      "text/plain": [
       "tensor([True, True, True, True, True, True])"
      ]
     },
     "execution_count": 83,
     "metadata": {},
     "output_type": "execute_result"
    }
   ],
   "source": [
    "x"
   ]
  },
  {
   "cell_type": "code",
   "execution_count": 84,
   "id": "2a7ee141",
   "metadata": {},
   "outputs": [
    {
     "data": {
      "text/plain": [
       "torch.Size([6])"
      ]
     },
     "execution_count": 84,
     "metadata": {},
     "output_type": "execute_result"
    }
   ],
   "source": [
    "x.shape"
   ]
  },
  {
   "cell_type": "code",
   "execution_count": 85,
   "id": "8c861684",
   "metadata": {},
   "outputs": [
    {
     "data": {
      "text/plain": [
       "tensor([[ 7,  7, 16, 17],\n",
       "        [ 8, 17, 15, 12],\n",
       "        [ 5, 10,  8,  9]])"
      ]
     },
     "execution_count": 85,
     "metadata": {},
     "output_type": "execute_result"
    }
   ],
   "source": [
    "t=torch.randint(2,20,(3,4))\n",
    "t"
   ]
  },
  {
   "cell_type": "code",
   "execution_count": 89,
   "id": "e3a646da",
   "metadata": {},
   "outputs": [
    {
     "data": {
      "text/plain": [
       "tensor([[ 7,  7, 16, 17,  8, 17],\n",
       "        [15, 12,  5, 10,  8,  9]])"
      ]
     },
     "execution_count": 89,
     "metadata": {},
     "output_type": "execute_result"
    }
   ],
   "source": [
    "t.reshape(2,6)"
   ]
  },
  {
   "cell_type": "code",
   "execution_count": 90,
   "id": "ec601c25",
   "metadata": {},
   "outputs": [
    {
     "data": {
      "text/plain": [
       "tensor([[ 7,  7, 16, 17],\n",
       "        [ 8, 17, 15, 12],\n",
       "        [ 5, 10,  8,  9]])"
      ]
     },
     "execution_count": 90,
     "metadata": {},
     "output_type": "execute_result"
    }
   ],
   "source": [
    "t"
   ]
  },
  {
   "cell_type": "code",
   "execution_count": 94,
   "id": "7a15c969",
   "metadata": {},
   "outputs": [
    {
     "data": {
      "text/plain": [
       "tensor([[ 7,  7, 16, 17],\n",
       "        [ 8, 17, 15, 12],\n",
       "        [ 5, 10,  8,  9]])"
      ]
     },
     "execution_count": 94,
     "metadata": {},
     "output_type": "execute_result"
    }
   ],
   "source": [
    "t.reshape(3,-1)"
   ]
  },
  {
   "cell_type": "code",
   "execution_count": 95,
   "id": "28710ccf",
   "metadata": {},
   "outputs": [
    {
     "data": {
      "text/plain": [
       "tensor([ 7,  7, 16, 17,  8, 17, 15, 12,  5, 10,  8,  9])"
      ]
     },
     "execution_count": 95,
     "metadata": {},
     "output_type": "execute_result"
    }
   ],
   "source": [
    "t=t.view(-1)\n",
    "t"
   ]
  },
  {
   "cell_type": "code",
   "execution_count": 99,
   "id": "7785b6cb",
   "metadata": {},
   "outputs": [
    {
     "data": {
      "text/plain": [
       "tensor([16, 17,  8, 17, 15, 12,  5, 10])"
      ]
     },
     "execution_count": 99,
     "metadata": {},
     "output_type": "execute_result"
    }
   ],
   "source": [
    "t[2:-2]"
   ]
  },
  {
   "cell_type": "code",
   "execution_count": null,
   "id": "1dd92678",
   "metadata": {},
   "outputs": [],
   "source": []
  }
 ],
 "metadata": {
  "kernelspec": {
   "display_name": "Python 3 (ipykernel)",
   "language": "python",
   "name": "python3"
  },
  "language_info": {
   "codemirror_mode": {
    "name": "ipython",
    "version": 3
   },
   "file_extension": ".py",
   "mimetype": "text/x-python",
   "name": "python",
   "nbconvert_exporter": "python",
   "pygments_lexer": "ipython3",
   "version": "3.10.4"
  }
 },
 "nbformat": 4,
 "nbformat_minor": 5
}
