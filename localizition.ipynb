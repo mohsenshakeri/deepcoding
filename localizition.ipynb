{
 "cells": [
  {
   "cell_type": "code",
   "execution_count": 1,
   "id": "de8b4a5d",
   "metadata": {},
   "outputs": [],
   "source": [
    "import torch\n",
    "import torch.nn as nn\n",
    "import torch.optim as optim\n",
    "from torch.utils.data import DataLoader,Dataset\n",
    "\n",
    "\n",
    "import torchvision\n",
    "import torchvision.models as models\n",
    "import torchvision.transforms as transforms\n",
    "\n",
    "import matplotlib.pyplot as plt\n",
    "import glob as glob\n",
    "from PIL import Image\n"
   ]
  },
  {
   "cell_type": "code",
   "execution_count": 2,
   "id": "390bdac3",
   "metadata": {},
   "outputs": [],
   "source": [
    "import pandas as pd"
   ]
  },
  {
   "cell_type": "code",
   "execution_count": 3,
   "id": "4e27045e",
   "metadata": {},
   "outputs": [],
   "source": [
    "path='D:/DataSets/object detection/mnist_detection/mnist_detection/'\n",
    "train_image_list=glob.glob(path+'train/images/*.*')\n",
    "train_label_list=glob.glob(path+'train/labels/*.*')\n",
    "test_image_list=glob.glob(path+'test/images/*.*')\n",
    "test_label_list=glob.glob(path+'test/labels/*.*')\n"
   ]
  },
  {
   "cell_type": "code",
   "execution_count": 4,
   "id": "3c239c4b",
   "metadata": {},
   "outputs": [
    {
     "data": {
      "text/plain": [
       "10000"
      ]
     },
     "execution_count": 4,
     "metadata": {},
     "output_type": "execute_result"
    }
   ],
   "source": [
    "len(train_image_list)"
   ]
  },
  {
   "cell_type": "code",
   "execution_count": 5,
   "id": "7fa3f77a",
   "metadata": {},
   "outputs": [
    {
     "data": {
      "text/plain": [
       "10000"
      ]
     },
     "execution_count": 5,
     "metadata": {},
     "output_type": "execute_result"
    }
   ],
   "source": [
    "len(train_label_list)"
   ]
  },
  {
   "cell_type": "code",
   "execution_count": 6,
   "id": "70a8a0e2",
   "metadata": {},
   "outputs": [
    {
     "name": "stdout",
     "output_type": "stream",
     "text": [
      "1000\n",
      "1000\n"
     ]
    }
   ],
   "source": [
    "print(len(test_image_list))\n",
    "print(len(test_label_list))"
   ]
  },
  {
   "cell_type": "code",
   "execution_count": 7,
   "id": "1c12b5c5",
   "metadata": {},
   "outputs": [
    {
     "data": {
      "text/plain": [
       "['D:/DataSets/object detection/mnist_detection/mnist_detection/train/images\\\\0.png',\n",
       " 'D:/DataSets/object detection/mnist_detection/mnist_detection/train/images\\\\1.png',\n",
       " 'D:/DataSets/object detection/mnist_detection/mnist_detection/train/images\\\\10.png',\n",
       " 'D:/DataSets/object detection/mnist_detection/mnist_detection/train/images\\\\100.png',\n",
       " 'D:/DataSets/object detection/mnist_detection/mnist_detection/train/images\\\\1000.png',\n",
       " 'D:/DataSets/object detection/mnist_detection/mnist_detection/train/images\\\\1001.png',\n",
       " 'D:/DataSets/object detection/mnist_detection/mnist_detection/train/images\\\\1002.png',\n",
       " 'D:/DataSets/object detection/mnist_detection/mnist_detection/train/images\\\\1003.png',\n",
       " 'D:/DataSets/object detection/mnist_detection/mnist_detection/train/images\\\\1004.png',\n",
       " 'D:/DataSets/object detection/mnist_detection/mnist_detection/train/images\\\\1005.png']"
      ]
     },
     "execution_count": 7,
     "metadata": {},
     "output_type": "execute_result"
    }
   ],
   "source": [
    "train_image_list[:10]"
   ]
  },
  {
   "cell_type": "code",
   "execution_count": 8,
   "id": "c1322451",
   "metadata": {},
   "outputs": [
    {
     "data": {
      "text/plain": [
       "['D:/DataSets/object detection/mnist_detection/mnist_detection/train/labels\\\\0.txt',\n",
       " 'D:/DataSets/object detection/mnist_detection/mnist_detection/train/labels\\\\1.txt',\n",
       " 'D:/DataSets/object detection/mnist_detection/mnist_detection/train/labels\\\\10.txt',\n",
       " 'D:/DataSets/object detection/mnist_detection/mnist_detection/train/labels\\\\100.txt',\n",
       " 'D:/DataSets/object detection/mnist_detection/mnist_detection/train/labels\\\\1000.txt',\n",
       " 'D:/DataSets/object detection/mnist_detection/mnist_detection/train/labels\\\\1001.txt',\n",
       " 'D:/DataSets/object detection/mnist_detection/mnist_detection/train/labels\\\\1002.txt',\n",
       " 'D:/DataSets/object detection/mnist_detection/mnist_detection/train/labels\\\\1003.txt',\n",
       " 'D:/DataSets/object detection/mnist_detection/mnist_detection/train/labels\\\\1004.txt',\n",
       " 'D:/DataSets/object detection/mnist_detection/mnist_detection/train/labels\\\\1005.txt']"
      ]
     },
     "execution_count": 8,
     "metadata": {},
     "output_type": "execute_result"
    }
   ],
   "source": [
    "train_label_list[:10]"
   ]
  },
  {
   "cell_type": "code",
   "execution_count": 9,
   "id": "d6fcd147",
   "metadata": {},
   "outputs": [
    {
     "data": {
      "text/plain": [
       "<matplotlib.image.AxesImage at 0x23708ab4cd0>"
      ]
     },
     "execution_count": 9,
     "metadata": {},
     "output_type": "execute_result"
    },
    {
     "data": {
      "image/png": "[encoded data removed]",
      "text/plain": [
       "<Figure size 640x480 with 1 Axes>"
      ]
     },
     "metadata": {},
     "output_type": "display_data"
    }
   ],
   "source": [
    "index=50\n",
    "img=Image.open(train_image_list[index])\n",
    "plt.imshow(img)"
   ]
  },
  {
   "cell_type": "code",
   "execution_count": 10,
   "id": "3d3be2c9",
   "metadata": {},
   "outputs": [],
   "source": [
    "bbox=pd.read_csv(train_label_list[index]).values[0]"
   ]
  },
  {
   "cell_type": "code",
   "execution_count": 11,
   "id": "c2f72411",
   "metadata": {},
   "outputs": [
    {
     "data": {
      "text/plain": [
       "array([  6, 261, 117, 274, 138], dtype=int64)"
      ]
     },
     "execution_count": 11,
     "metadata": {},
     "output_type": "execute_result"
    }
   ],
   "source": [
    "bbox"
   ]
  },
  {
   "cell_type": "code",
   "execution_count": 12,
   "id": "5fbb16d9",
   "metadata": {},
   "outputs": [
    {
     "data": {
      "text/plain": [
       "<matplotlib.patches.Rectangle at 0x23708afb790>"
      ]
     },
     "execution_count": 12,
     "metadata": {},
     "output_type": "execute_result"
    },
    {
     "data": {
      "image/png": "[encoded data removed]",
      "text/plain": [
       "<Figure size 640x480 with 1 Axes>"
      ]
     },
     "metadata": {},
     "output_type": "display_data"
    }
   ],
   "source": [
    "rect=plt.Rectangle((bbox[1],bbox[2]),bbox[3]-bbox[1],bbox[4]-bbox[2],color='yellow',fill=False)\n",
    "plt.imshow(img)\n",
    "plt.gca().add_patch(rect)\n"
   ]
  },
  {
   "cell_type": "code",
   "execution_count": 13,
   "id": "ef8426db",
   "metadata": {},
   "outputs": [
    {
     "data": {
      "text/plain": [
       "array([  6, 261, 117, 274, 138], dtype=int64)"
      ]
     },
     "execution_count": 13,
     "metadata": {},
     "output_type": "execute_result"
    }
   ],
   "source": [
    "bbox"
   ]
  },
  {
   "cell_type": "code",
   "execution_count": 14,
   "id": "bcda514b",
   "metadata": {},
   "outputs": [
    {
     "data": {
      "text/plain": [
       "(300, 300)"
      ]
     },
     "execution_count": 14,
     "metadata": {},
     "output_type": "execute_result"
    }
   ],
   "source": [
    "img.size"
   ]
  },
  {
   "cell_type": "code",
   "execution_count": 15,
   "id": "a670e568",
   "metadata": {},
   "outputs": [],
   "source": [
    "sz=229"
   ]
  },
  {
   "cell_type": "code",
   "execution_count": 16,
   "id": "e35f7824",
   "metadata": {},
   "outputs": [],
   "source": [
    "img_res=transforms.Resize((sz,sz))\n"
   ]
  },
  {
   "cell_type": "code",
   "execution_count": 17,
   "id": "706dceef",
   "metadata": {},
   "outputs": [],
   "source": [
    "img=img_res(img)"
   ]
  },
  {
   "cell_type": "code",
   "execution_count": 18,
   "id": "10225895",
   "metadata": {},
   "outputs": [
    {
     "data": {
      "text/plain": [
       "(229, 229)"
      ]
     },
     "execution_count": 18,
     "metadata": {},
     "output_type": "execute_result"
    }
   ],
   "source": [
    "img.size"
   ]
  },
  {
   "cell_type": "code",
   "execution_count": 19,
   "id": "9ed4cd24",
   "metadata": {},
   "outputs": [
    {
     "data": {
      "text/plain": [
       "0.7633333333333333"
      ]
     },
     "execution_count": 19,
     "metadata": {},
     "output_type": "execute_result"
    }
   ],
   "source": [
    "scale=sz/300\n",
    "scale"
   ]
  },
  {
   "cell_type": "code",
   "execution_count": 20,
   "id": "bc27abc5",
   "metadata": {},
   "outputs": [],
   "source": [
    "bboxnew=(bbox[1:]/300)*scale"
   ]
  },
  {
   "cell_type": "code",
   "execution_count": 21,
   "id": "ded1afff",
   "metadata": {},
   "outputs": [
    {
     "data": {
      "text/plain": [
       "array([0.6641    , 0.2977    , 0.69717778, 0.35113333])"
      ]
     },
     "execution_count": 21,
     "metadata": {},
     "output_type": "execute_result"
    }
   ],
   "source": [
    "bboxnew"
   ]
  },
  {
   "cell_type": "code",
   "execution_count": 22,
   "id": "d2b2a298",
   "metadata": {},
   "outputs": [],
   "source": [
    "bbox[1:]=(bboxnew/scale)*229"
   ]
  },
  {
   "cell_type": "code",
   "execution_count": 23,
   "id": "9b6b8243",
   "metadata": {},
   "outputs": [
    {
     "data": {
      "text/plain": [
       "array([  6, 199,  89, 209, 105], dtype=int64)"
      ]
     },
     "execution_count": 23,
     "metadata": {},
     "output_type": "execute_result"
    }
   ],
   "source": [
    "bbox"
   ]
  },
  {
   "cell_type": "code",
   "execution_count": 24,
   "id": "4d00424a",
   "metadata": {},
   "outputs": [
    {
     "data": {
      "text/plain": [
       "<matplotlib.patches.Rectangle at 0x23708d312d0>"
      ]
     },
     "execution_count": 24,
     "metadata": {},
     "output_type": "execute_result"
    },
    {
     "data": {
      "image/png": "[encoded data removed]",
      "text/plain": [
       "<Figure size 640x480 with 1 Axes>"
      ]
     },
     "metadata": {},
     "output_type": "display_data"
    }
   ],
   "source": [
    "rect=plt.Rectangle((bbox[1],bbox[2]),bbox[3]-bbox[1],bbox[4]-bbox[2],color='yellow',fill=False)\n",
    "plt.imshow(img)\n",
    "plt.gca().add_patch(rect)"
   ]
  },
  {
   "cell_type": "code",
   "execution_count": 25,
   "id": "8bf9c45c",
   "metadata": {},
   "outputs": [],
   "source": [
    "(w,h)=img.size"
   ]
  },
  {
   "cell_type": "code",
   "execution_count": 26,
   "id": "94b697a2",
   "metadata": {},
   "outputs": [
    {
     "data": {
      "text/plain": [
       "229"
      ]
     },
     "execution_count": 26,
     "metadata": {},
     "output_type": "execute_result"
    }
   ],
   "source": [
    "w"
   ]
  },
  {
   "cell_type": "code",
   "execution_count": 27,
   "id": "c080fa55",
   "metadata": {},
   "outputs": [],
   "source": [
    "class mnist_dataset(Dataset):\n",
    "    def __init__(self,images,bbox,sz):\n",
    "        self.images=images\n",
    "        self.bbox=bbox\n",
    "        self.sz=sz\n",
    "        self.transforms=transforms.Compose([transforms.Resize((sz,sz)),transforms.ToTensor()])\n",
    "                                            \n",
    "    def __getitem__(self,index):\n",
    "        image=self.images[index] \n",
    "        image=Image.open(image)\n",
    "        (w,h)=image.size \n",
    "        image=self.transforms(image)\n",
    "        scale=sz/w                                    \n",
    "        annotation=pd.read_csv(self.bbox[index]).values[0]   \n",
    "        lbl=annotation[0]\n",
    "        bbox=annotation[1:]\n",
    "        bbox=torch.Tensor(bbox)                                    \n",
    "        bbox=(bbox/w)*scale\n",
    "        return image,lbl,bbox,(w,h)\n",
    "                                            \n",
    "    def __len__(self):\n",
    "          return len(self.images)                                  \n",
    "    "
   ]
  },
  {
   "cell_type": "code",
   "execution_count": 28,
   "id": "f34f762d",
   "metadata": {},
   "outputs": [],
   "source": [
    "train_ds=mnist_dataset(train_image_list,train_label_list,229)"
   ]
  },
  {
   "cell_type": "code",
   "execution_count": 29,
   "id": "9b65a8b8",
   "metadata": {},
   "outputs": [],
   "source": [
    "train_dl=DataLoader(dataset=train_ds,batch_size=16,shuffle=False)"
   ]
  },
  {
   "cell_type": "code",
   "execution_count": 30,
   "id": "acd014a4",
   "metadata": {},
   "outputs": [],
   "source": [
    "images,labels,bboxs,_=next(iter(train_dl))"
   ]
  },
  {
   "cell_type": "code",
   "execution_count": 31,
   "id": "965a1b12",
   "metadata": {},
   "outputs": [
    {
     "data": {
      "text/plain": [
       "16"
      ]
     },
     "execution_count": 31,
     "metadata": {},
     "output_type": "execute_result"
    }
   ],
   "source": [
    "len(images)"
   ]
  },
  {
   "cell_type": "code",
   "execution_count": 32,
   "id": "a4b093c8",
   "metadata": {},
   "outputs": [
    {
     "data": {
      "text/plain": [
       "torch.Size([16, 1, 229, 229])"
      ]
     },
     "execution_count": 32,
     "metadata": {},
     "output_type": "execute_result"
    }
   ],
   "source": [
    "images.size()"
   ]
  },
  {
   "cell_type": "code",
   "execution_count": 33,
   "id": "80ed15a5",
   "metadata": {},
   "outputs": [
    {
     "data": {
      "text/plain": [
       "tensor([6, 2, 1, 6, 1, 3, 6, 2, 7, 5, 5, 7, 6, 9, 7, 7])"
      ]
     },
     "execution_count": 33,
     "metadata": {},
     "output_type": "execute_result"
    }
   ],
   "source": [
    "labels"
   ]
  },
  {
   "cell_type": "code",
   "execution_count": 34,
   "id": "b7bdc9e7",
   "metadata": {},
   "outputs": [
    {
     "data": {
      "text/plain": [
       "tensor([[0.6870, 0.6641, 0.7201, 0.7124],\n",
       "        [0.1552, 0.6132, 0.2036, 0.6616],\n",
       "        [0.3766, 0.4834, 0.4198, 0.6081],\n",
       "        [0.5089, 0.4427, 0.6234, 0.6030],\n",
       "        [0.2366, 0.6895, 0.2570, 0.7353],\n",
       "        [0.6005, 0.5521, 0.7099, 0.6717],\n",
       "        [0.0585, 0.1527, 0.1349, 0.2417],\n",
       "        [0.5445, 0.1145, 0.6463, 0.2163],\n",
       "        [0.3053, 0.1628, 0.3740, 0.2494],\n",
       "        [0.4351, 0.3715, 0.5649, 0.5521],\n",
       "        [0.4656, 0.2646, 0.5420, 0.3308],\n",
       "        [0.2265, 0.4173, 0.2952, 0.4936],\n",
       "        [0.4097, 0.0433, 0.5013, 0.1908],\n",
       "        [0.6437, 0.0941, 0.7175, 0.1959],\n",
       "        [0.1527, 0.1679, 0.1934, 0.2188],\n",
       "        [0.2595, 0.3410, 0.3181, 0.4300]])"
      ]
     },
     "execution_count": 34,
     "metadata": {},
     "output_type": "execute_result"
    }
   ],
   "source": [
    "bboxs"
   ]
  },
  {
   "cell_type": "code",
   "execution_count": 35,
   "id": "1c4af202",
   "metadata": {},
   "outputs": [],
   "source": [
    "model=models.resnet34()"
   ]
  },
  {
   "cell_type": "code",
   "execution_count": 36,
   "id": "8523646f",
   "metadata": {},
   "outputs": [
    {
     "data": {
      "text/plain": [
       "ResNet(\n",
       "  (conv1): Conv2d(3, 64, kernel_size=(7, 7), stride=(2, 2), padding=(3, 3), bias=False)\n",
       "  (bn1): BatchNorm2d(64, eps=1e-05, momentum=0.1, affine=True, track_running_stats=True)\n",
       "  (relu): ReLU(inplace=True)\n",
       "  (maxpool): MaxPool2d(kernel_size=3, stride=2, padding=1, dilation=1, ceil_mode=False)\n",
       "  (layer1): Sequential(\n",
       "    (0): BasicBlock(\n",
       "      (conv1): Conv2d(64, 64, kernel_size=(3, 3), stride=(1, 1), padding=(1, 1), bias=False)\n",
       "      (bn1): BatchNorm2d(64, eps=1e-05, momentum=0.1, affine=True, track_running_stats=True)\n",
       "      (relu): ReLU(inplace=True)\n",
       "      (conv2): Conv2d(64, 64, kernel_size=(3, 3), stride=(1, 1), padding=(1, 1), bias=False)\n",
       "      (bn2): BatchNorm2d(64, eps=1e-05, momentum=0.1, affine=True, track_running_stats=True)\n",
       "    )\n",
       "    (1): BasicBlock(\n",
       "      (conv1): Conv2d(64, 64, kernel_size=(3, 3), stride=(1, 1), padding=(1, 1), bias=False)\n",
       "      (bn1): BatchNorm2d(64, eps=1e-05, momentum=0.1, affine=True, track_running_stats=True)\n",
       "      (relu): ReLU(inplace=True)\n",
       "      (conv2): Conv2d(64, 64, kernel_size=(3, 3), stride=(1, 1), padding=(1, 1), bias=False)\n",
       "      (bn2): BatchNorm2d(64, eps=1e-05, momentum=0.1, affine=True, track_running_stats=True)\n",
       "    )\n",
       "    (2): BasicBlock(\n",
       "      (conv1): Conv2d(64, 64, kernel_size=(3, 3), stride=(1, 1), padding=(1, 1), bias=False)\n",
       "      (bn1): BatchNorm2d(64, eps=1e-05, momentum=0.1, affine=True, track_running_stats=True)\n",
       "      (relu): ReLU(inplace=True)\n",
       "      (conv2): Conv2d(64, 64, kernel_size=(3, 3), stride=(1, 1), padding=(1, 1), bias=False)\n",
       "      (bn2): BatchNorm2d(64, eps=1e-05, momentum=0.1, affine=True, track_running_stats=True)\n",
       "    )\n",
       "  )\n",
       "  (layer2): Sequential(\n",
       "    (0): BasicBlock(\n",
       "      (conv1): Conv2d(64, 128, kernel_size=(3, 3), stride=(2, 2), padding=(1, 1), bias=False)\n",
       "      (bn1): BatchNorm2d(128, eps=1e-05, momentum=0.1, affine=True, track_running_stats=True)\n",
       "      (relu): ReLU(inplace=True)\n",
       "      (conv2): Conv2d(128, 128, kernel_size=(3, 3), stride=(1, 1), padding=(1, 1), bias=False)\n",
       "      (bn2): BatchNorm2d(128, eps=1e-05, momentum=0.1, affine=True, track_running_stats=True)\n",
       "      (downsample): Sequential(\n",
       "        (0): Conv2d(64, 128, kernel_size=(1, 1), stride=(2, 2), bias=False)\n",
       "        (1): BatchNorm2d(128, eps=1e-05, momentum=0.1, affine=True, track_running_stats=True)\n",
       "      )\n",
       "    )\n",
       "    (1): BasicBlock(\n",
       "      (conv1): Conv2d(128, 128, kernel_size=(3, 3), stride=(1, 1), padding=(1, 1), bias=False)\n",
       "      (bn1): BatchNorm2d(128, eps=1e-05, momentum=0.1, affine=True, track_running_stats=True)\n",
       "      (relu): ReLU(inplace=True)\n",
       "      (conv2): Conv2d(128, 128, kernel_size=(3, 3), stride=(1, 1), padding=(1, 1), bias=False)\n",
       "      (bn2): BatchNorm2d(128, eps=1e-05, momentum=0.1, affine=True, track_running_stats=True)\n",
       "    )\n",
       "    (2): BasicBlock(\n",
       "      (conv1): Conv2d(128, 128, kernel_size=(3, 3), stride=(1, 1), padding=(1, 1), bias=False)\n",
       "      (bn1): BatchNorm2d(128, eps=1e-05, momentum=0.1, affine=True, track_running_stats=True)\n",
       "      (relu): ReLU(inplace=True)\n",
       "      (conv2): Conv2d(128, 128, kernel_size=(3, 3), stride=(1, 1), padding=(1, 1), bias=False)\n",
       "      (bn2): BatchNorm2d(128, eps=1e-05, momentum=0.1, affine=True, track_running_stats=True)\n",
       "    )\n",
       "    (3): BasicBlock(\n",
       "      (conv1): Conv2d(128, 128, kernel_size=(3, 3), stride=(1, 1), padding=(1, 1), bias=False)\n",
       "      (bn1): BatchNorm2d(128, eps=1e-05, momentum=0.1, affine=True, track_running_stats=True)\n",
       "      (relu): ReLU(inplace=True)\n",
       "      (conv2): Conv2d(128, 128, kernel_size=(3, 3), stride=(1, 1), padding=(1, 1), bias=False)\n",
       "      (bn2): BatchNorm2d(128, eps=1e-05, momentum=0.1, affine=True, track_running_stats=True)\n",
       "    )\n",
       "  )\n",
       "  (layer3): Sequential(\n",
       "    (0): BasicBlock(\n",
       "      (conv1): Conv2d(128, 256, kernel_size=(3, 3), stride=(2, 2), padding=(1, 1), bias=False)\n",
       "      (bn1): BatchNorm2d(256, eps=1e-05, momentum=0.1, affine=True, track_running_stats=True)\n",
       "      (relu): ReLU(inplace=True)\n",
       "      (conv2): Conv2d(256, 256, kernel_size=(3, 3), stride=(1, 1), padding=(1, 1), bias=False)\n",
       "      (bn2): BatchNorm2d(256, eps=1e-05, momentum=0.1, affine=True, track_running_stats=True)\n",
       "      (downsample): Sequential(\n",
       "        (0): Conv2d(128, 256, kernel_size=(1, 1), stride=(2, 2), bias=False)\n",
       "        (1): BatchNorm2d(256, eps=1e-05, momentum=0.1, affine=True, track_running_stats=True)\n",
       "      )\n",
       "    )\n",
       "    (1): BasicBlock(\n",
       "      (conv1): Conv2d(256, 256, kernel_size=(3, 3), stride=(1, 1), padding=(1, 1), bias=False)\n",
       "      (bn1): BatchNorm2d(256, eps=1e-05, momentum=0.1, affine=True, track_running_stats=True)\n",
       "      (relu): ReLU(inplace=True)\n",
       "      (conv2): Conv2d(256, 256, kernel_size=(3, 3), stride=(1, 1), padding=(1, 1), bias=False)\n",
       "      (bn2): BatchNorm2d(256, eps=1e-05, momentum=0.1, affine=True, track_running_stats=True)\n",
       "    )\n",
       "    (2): BasicBlock(\n",
       "      (conv1): Conv2d(256, 256, kernel_size=(3, 3), stride=(1, 1), padding=(1, 1), bias=False)\n",
       "      (bn1): BatchNorm2d(256, eps=1e-05, momentum=0.1, affine=True, track_running_stats=True)\n",
       "      (relu): ReLU(inplace=True)\n",
       "      (conv2): Conv2d(256, 256, kernel_size=(3, 3), stride=(1, 1), padding=(1, 1), bias=False)\n",
       "      (bn2): BatchNorm2d(256, eps=1e-05, momentum=0.1, affine=True, track_running_stats=True)\n",
       "    )\n",
       "    (3): BasicBlock(\n",
       "      (conv1): Conv2d(256, 256, kernel_size=(3, 3), stride=(1, 1), padding=(1, 1), bias=False)\n",
       "      (bn1): BatchNorm2d(256, eps=1e-05, momentum=0.1, affine=True, track_running_stats=True)\n",
       "      (relu): ReLU(inplace=True)\n",
       "      (conv2): Conv2d(256, 256, kernel_size=(3, 3), stride=(1, 1), padding=(1, 1), bias=False)\n",
       "      (bn2): BatchNorm2d(256, eps=1e-05, momentum=0.1, affine=True, track_running_stats=True)\n",
       "    )\n",
       "    (4): BasicBlock(\n",
       "      (conv1): Conv2d(256, 256, kernel_size=(3, 3), stride=(1, 1), padding=(1, 1), bias=False)\n",
       "      (bn1): BatchNorm2d(256, eps=1e-05, momentum=0.1, affine=True, track_running_stats=True)\n",
       "      (relu): ReLU(inplace=True)\n",
       "      (conv2): Conv2d(256, 256, kernel_size=(3, 3), stride=(1, 1), padding=(1, 1), bias=False)\n",
       "      (bn2): BatchNorm2d(256, eps=1e-05, momentum=0.1, affine=True, track_running_stats=True)\n",
       "    )\n",
       "    (5): BasicBlock(\n",
       "      (conv1): Conv2d(256, 256, kernel_size=(3, 3), stride=(1, 1), padding=(1, 1), bias=False)\n",
       "      (bn1): BatchNorm2d(256, eps=1e-05, momentum=0.1, affine=True, track_running_stats=True)\n",
       "      (relu): ReLU(inplace=True)\n",
       "      (conv2): Conv2d(256, 256, kernel_size=(3, 3), stride=(1, 1), padding=(1, 1), bias=False)\n",
       "      (bn2): BatchNorm2d(256, eps=1e-05, momentum=0.1, affine=True, track_running_stats=True)\n",
       "    )\n",
       "  )\n",
       "  (layer4): Sequential(\n",
       "    (0): BasicBlock(\n",
       "      (conv1): Conv2d(256, 512, kernel_size=(3, 3), stride=(2, 2), padding=(1, 1), bias=False)\n",
       "      (bn1): BatchNorm2d(512, eps=1e-05, momentum=0.1, affine=True, track_running_stats=True)\n",
       "      (relu): ReLU(inplace=True)\n",
       "      (conv2): Conv2d(512, 512, kernel_size=(3, 3), stride=(1, 1), padding=(1, 1), bias=False)\n",
       "      (bn2): BatchNorm2d(512, eps=1e-05, momentum=0.1, affine=True, track_running_stats=True)\n",
       "      (downsample): Sequential(\n",
       "        (0): Conv2d(256, 512, kernel_size=(1, 1), stride=(2, 2), bias=False)\n",
       "        (1): BatchNorm2d(512, eps=1e-05, momentum=0.1, affine=True, track_running_stats=True)\n",
       "      )\n",
       "    )\n",
       "    (1): BasicBlock(\n",
       "      (conv1): Conv2d(512, 512, kernel_size=(3, 3), stride=(1, 1), padding=(1, 1), bias=False)\n",
       "      (bn1): BatchNorm2d(512, eps=1e-05, momentum=0.1, affine=True, track_running_stats=True)\n",
       "      (relu): ReLU(inplace=True)\n",
       "      (conv2): Conv2d(512, 512, kernel_size=(3, 3), stride=(1, 1), padding=(1, 1), bias=False)\n",
       "      (bn2): BatchNorm2d(512, eps=1e-05, momentum=0.1, affine=True, track_running_stats=True)\n",
       "    )\n",
       "    (2): BasicBlock(\n",
       "      (conv1): Conv2d(512, 512, kernel_size=(3, 3), stride=(1, 1), padding=(1, 1), bias=False)\n",
       "      (bn1): BatchNorm2d(512, eps=1e-05, momentum=0.1, affine=True, track_running_stats=True)\n",
       "      (relu): ReLU(inplace=True)\n",
       "      (conv2): Conv2d(512, 512, kernel_size=(3, 3), stride=(1, 1), padding=(1, 1), bias=False)\n",
       "      (bn2): BatchNorm2d(512, eps=1e-05, momentum=0.1, affine=True, track_running_stats=True)\n",
       "    )\n",
       "  )\n",
       "  (avgpool): AdaptiveAvgPool2d(output_size=(1, 1))\n",
       "  (fc): Linear(in_features=512, out_features=1000, bias=True)\n",
       ")"
      ]
     },
     "execution_count": 36,
     "metadata": {},
     "output_type": "execute_result"
    }
   ],
   "source": [
    "model\n"
   ]
  },
  {
   "cell_type": "code",
   "execution_count": 37,
   "id": "5e3f86f4",
   "metadata": {},
   "outputs": [],
   "source": [
    "class customModel(nn.Module):\n",
    "    def __init__(self,numclass=10):\n",
    "        super(customModel,self).__init__()\n",
    "        self.numclass=numclass\n",
    "        model=models.resnet34()\n",
    "        model.conv1=nn.Conv2d(1, 64, kernel_size=(7, 7), stride=(2, 2), padding=(3, 3), bias=False)\n",
    "        in_feature=model.fc.in_features\n",
    "        model.fc=nn.Linear(in_features=in_feature, out_features=numclass+4, bias=True)\n",
    "        self.model=model\n",
    "        \n",
    "    def forward(self,x):\n",
    "        out=self.model(x)\n",
    "        score=out[:,:self.numclass]\n",
    "        bbox=out[:,self.numclass:]\n",
    "        return score,torch.sigmoid(bbox)\n",
    "        \n",
    "        "
   ]
  },
  {
   "cell_type": "code",
   "execution_count": 38,
   "id": "791876a5",
   "metadata": {},
   "outputs": [],
   "source": [
    "class customLoss(nn.Module):\n",
    "    def __init__(self):\n",
    "        super(customLoss,self).__init__()\n",
    "        self.crossEntropy=nn.CrossEntropyLoss()\n",
    "        self.mse=nn.MSELoss(reduction='sum')\n",
    "    def forward(self,score,lbl,pbbox,bbox):\n",
    "        clsLoss=self.crossEntropy(score,lbl)\n",
    "        l1=self.mse(pbbox[:,0],bbox[:,0])\n",
    "        l2=self.mse(pbbox[:,1],bbox[:,1])\n",
    "        l3=self.mse(pbbox[:,2],bbox[:,2])\n",
    "        l4=self.mse(pbbox[:,3],bbox[:,3])\n",
    "        return clsLoss+l1+l2+l3+l4\n",
    "      "
   ]
  },
  {
   "cell_type": "code",
   "execution_count": 39,
   "id": "181d262c",
   "metadata": {},
   "outputs": [],
   "source": [
    "model=customModel()"
   ]
  },
  {
   "cell_type": "code",
   "execution_count": 40,
   "id": "b156fd35",
   "metadata": {},
   "outputs": [],
   "source": [
    "device = 'cuda' if torch.cuda.is_available() else 'cpu'"
   ]
  },
  {
   "cell_type": "code",
   "execution_count": 41,
   "id": "139f0b67",
   "metadata": {},
   "outputs": [],
   "source": [
    "citeration=customLoss()"
   ]
  },
  {
   "cell_type": "code",
   "execution_count": 42,
   "id": "0bd5964a",
   "metadata": {},
   "outputs": [],
   "source": [
    "model=model.to(device)\n",
    "citeration=citeration.to(device)"
   ]
  },
  {
   "cell_type": "code",
   "execution_count": 43,
   "id": "7853b015",
   "metadata": {},
   "outputs": [],
   "source": [
    "optimizer=optim.Adam(params=model.parameters(),lr=0.00001)"
   ]
  },
  {
   "cell_type": "code",
   "execution_count": 44,
   "id": "8cdb49d9",
   "metadata": {},
   "outputs": [],
   "source": [
    "epoch=1"
   ]
  },
  {
   "cell_type": "code",
   "execution_count": 45,
   "id": "b58a1ffb",
   "metadata": {},
   "outputs": [
    {
     "name": "stdout",
     "output_type": "stream",
     "text": [
      "loss in idx 1 equal to 8.21833610534668\n",
      "loss in idx 51 equal to 2.7961530685424805\n",
      "loss in idx 101 equal to 2.851792812347412\n",
      "loss in idx 151 equal to 2.470338821411133\n",
      "loss in idx 201 equal to 2.27384352684021\n",
      "loss in idx 251 equal to 2.3525331020355225\n",
      "loss in idx 301 equal to 2.4454164505004883\n",
      "loss in idx 351 equal to 2.149625539779663\n",
      "loss in idx 401 equal to 2.30112886428833\n",
      "loss in idx 451 equal to 2.3013267517089844\n",
      "loss in idx 501 equal to 2.4674935340881348\n",
      "loss in idx 551 equal to 2.141519784927368\n",
      "loss in idx 601 equal to 1.9807168245315552\n",
      "loss in epoch number 2 is equal to 1576.565185546875\n"
     ]
    }
   ],
   "source": [
    "for i in range(epoch):\n",
    "    sumloss=0\n",
    "    for idx,(images,lbl,bbox,_)in enumerate(train_dl):\n",
    "        images=images.to(device)\n",
    "        lbl=lbl.to(device)\n",
    "        bbox=bbox.to(device)\n",
    "        score,pbbox=model(images)\n",
    "        loss=citeration(score,lbl,pbbox,bbox)\n",
    "        sumloss+=loss\n",
    "        optimizer.zero_grad()\n",
    "        loss.backward()\n",
    "        optimizer.step()\n",
    "        \n",
    "        if idx % 50 == 0 :\n",
    "            print (f'loss in idx { idx+1 } equal to {loss}')\n",
    "    print(f'loss in epoch number {epoch+1} is equal to {sumloss}')         \n",
    "            \n",
    "        "
   ]
  },
  {
   "cell_type": "code",
   "execution_count": 46,
   "id": "afa3392b",
   "metadata": {},
   "outputs": [],
   "source": [
    "images,_,_,size=next(iter(train_dl))"
   ]
  },
  {
   "cell_type": "code",
   "execution_count": 47,
   "id": "1f87e957",
   "metadata": {},
   "outputs": [
    {
     "data": {
      "text/plain": [
       "torch.Size([16, 1, 229, 229])"
      ]
     },
     "execution_count": 47,
     "metadata": {},
     "output_type": "execute_result"
    }
   ],
   "source": [
    "images.size()"
   ]
  },
  {
   "cell_type": "code",
   "execution_count": 48,
   "id": "fca54b58",
   "metadata": {},
   "outputs": [],
   "source": [
    "images=images.to(device)"
   ]
  },
  {
   "cell_type": "code",
   "execution_count": 49,
   "id": "1fd9e957",
   "metadata": {},
   "outputs": [],
   "source": [
    "score,pbbox=model(images)"
   ]
  },
  {
   "cell_type": "code",
   "execution_count": 50,
   "id": "e5ee89d0",
   "metadata": {},
   "outputs": [
    {
     "data": {
      "text/plain": [
       "torch.Size([16, 10])"
      ]
     },
     "execution_count": 50,
     "metadata": {},
     "output_type": "execute_result"
    }
   ],
   "source": [
    "score.size()"
   ]
  },
  {
   "cell_type": "code",
   "execution_count": 51,
   "id": "cc0595dd",
   "metadata": {},
   "outputs": [
    {
     "data": {
      "text/plain": [
       "tensor([ 0.5263, -1.0643,  0.6694,  0.4619, -0.0334,  0.6235,  0.3366,  0.0833,\n",
       "         0.7022, -0.0091], device='cuda:0', grad_fn=<SelectBackward0>)"
      ]
     },
     "execution_count": 51,
     "metadata": {},
     "output_type": "execute_result"
    }
   ],
   "source": [
    "score[3]"
   ]
  },
  {
   "cell_type": "code",
   "execution_count": 52,
   "id": "cec57cb3",
   "metadata": {},
   "outputs": [
    {
     "data": {
      "text/plain": [
       "torch.Size([16, 4])"
      ]
     },
     "execution_count": 52,
     "metadata": {},
     "output_type": "execute_result"
    }
   ],
   "source": [
    "pbbox.size()"
   ]
  },
  {
   "cell_type": "code",
   "execution_count": 53,
   "id": "2ffe6564",
   "metadata": {},
   "outputs": [
    {
     "data": {
      "text/plain": [
       "tensor([0.5955, 0.6386, 0.6344, 0.6639], device='cuda:0',\n",
       "       grad_fn=<SelectBackward0>)"
      ]
     },
     "execution_count": 53,
     "metadata": {},
     "output_type": "execute_result"
    }
   ],
   "source": [
    "pbbox[0]"
   ]
  },
  {
   "cell_type": "code",
   "execution_count": 54,
   "id": "ac7f7699",
   "metadata": {},
   "outputs": [],
   "source": [
    "pbbox=(pbbox/scale)*229"
   ]
  },
  {
   "cell_type": "code",
   "execution_count": 55,
   "id": "695ee5bd",
   "metadata": {},
   "outputs": [
    {
     "data": {
      "text/plain": [
       "torch.Size([1, 4])"
      ]
     },
     "execution_count": 55,
     "metadata": {},
     "output_type": "execute_result"
    }
   ],
   "source": [
    "pbbox[0].unsqueeze(0).size()"
   ]
  },
  {
   "cell_type": "code",
   "execution_count": 56,
   "id": "718b1537",
   "metadata": {},
   "outputs": [],
   "source": [
    "from torch.utils.tensorboard import SummaryWriter"
   ]
  },
  {
   "cell_type": "code",
   "execution_count": 57,
   "id": "080b5d7a",
   "metadata": {},
   "outputs": [],
   "source": [
    "writer=SummaryWriter(log_dir='log/mnist')"
   ]
  },
  {
   "cell_type": "code",
   "execution_count": 61,
   "id": "719085a8",
   "metadata": {},
   "outputs": [],
   "source": [
    "for i in range(len(images)):\n",
    "     writer.add_image_with_boxes(tag='images',img_tensor=images[i],box_tensor=pbbox[i].unsqueeze(0),global_step=i,labels=str(score[i].argmax().item()))\n",
    "writer.flush()\n",
    "writer.close()"
   ]
  },
  {
   "cell_type": "code",
   "execution_count": 62,
   "id": "5e3ac7c5",
   "metadata": {},
   "outputs": [],
   "source": [
    "test_ds=mnist_dataset(test_image_list,test_label_list,229)"
   ]
  },
  {
   "cell_type": "code",
   "execution_count": 63,
   "id": "c7c38202",
   "metadata": {},
   "outputs": [],
   "source": [
    "test_dl=DataLoader(dataset=test_ds,batch_size=16,shuffle=False)"
   ]
  },
  {
   "cell_type": "code",
   "execution_count": 64,
   "id": "8a97679c",
   "metadata": {},
   "outputs": [],
   "source": [
    "images,_,_,size=next(iter(test_dl))"
   ]
  },
  {
   "cell_type": "code",
   "execution_count": 65,
   "id": "b92b0f68",
   "metadata": {},
   "outputs": [],
   "source": [
    "images=images.to(device)\n",
    "score,pbbox=model(images)\n",
    "pbbox=(pbbox/scale)*229"
   ]
  },
  {
   "cell_type": "code",
   "execution_count": 66,
   "id": "9406ecd1",
   "metadata": {},
   "outputs": [],
   "source": [
    "for i in range(len(images)):\n",
    "     writer.add_image_with_boxes(tag='test_images',img_tensor=images[i],box_tensor=pbbox[i].unsqueeze(0),global_step=i,labels=str(score[i].argmax().item()))\n",
    "writer.flush()\n",
    "writer.close()"
   ]
  },
  {
   "cell_type": "code",
   "execution_count": null,
   "id": "181c7d92",
   "metadata": {},
   "outputs": [],
   "source": []
  }
 ],
 "metadata": {
  "kernelspec": {
   "display_name": "Python 3 (ipykernel)",
   "language": "python",
   "name": "python3"
  },
  "language_info": {
   "codemirror_mode": {
    "name": "ipython",
    "version": 3
   },
   "file_extension": ".py",
   "mimetype": "text/x-python",
   "name": "python",
   "nbconvert_exporter": "python",
   "pygments_lexer": "ipython3",
   "version": "3.10.4"
  }
 },
 "nbformat": 4,
 "nbformat_minor": 5
}
